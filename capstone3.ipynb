{
 "cells": [
  {
   "cell_type": "code",
   "execution_count": 28,
   "id": "2c0d2aba",
   "metadata": {},
   "outputs": [],
   "source": [
    "%matplotlib inline\n",
    "import pandas as pd\n",
    "import numpy as np\n",
    "from sklearn.model_selection import train_test_split\n",
    "from sklearn.preprocessing import StandardScaler\n",
    "import matplotlib\n",
    "import matplotlib.pyplot as plt\n",
    "import ipywidgets as widgets\n",
    "from IPython.display import display"
   ]
  },
  {
   "cell_type": "code",
   "execution_count": 46,
   "id": "e9390893",
   "metadata": {},
   "outputs": [],
   "source": [
    "def data_processing(dataFrame, features):\n",
    "    x_vals = dataFrame[features]\n",
    "    cat_feature = pd.get_dummies(x_vals[\"Employed\"])\n",
    "    scaler = StandardScaler().fit(x_vals)\n",
    "    x_vals = scaler.transform(x_vals)\n",
    "    x_vals = pd.DataFrame(x_vals, columns=features)\n",
    "    x_vals[\"unemployed\"], x_vals[\"employed\"] = cat_feature[0], cat_feature[1]\n",
    "    x_vals.insert(loc=0, column=\"placeholder\", value=np.ones(len(x_vals)))\n",
    "    y_vals = dataFrame.iloc[:, -1]\n",
    "    x_vals_train, x_vals_test, y_vals_train, y_vals_test = train_test_split(x_vals, y_vals, random_state=25)\n",
    "    x_vals_train, x_vals_test, y_vals_train, y_vals_test = x_vals_train.to_numpy(), x_vals_test.to_numpy(), \\\n",
    "                                                           y_vals_train.to_numpy(), y_vals_test.to_numpy()\n",
    "    return x_vals_train, x_vals_test, y_vals_train, y_vals_test\n",
    "\n",
    "\n",
    "def get_theta(coef, x):\n",
    "    theta = 0.0\n",
    "    for i in range(0, len(x)):\n",
    "        theta = theta + (coef[i] * x[i])\n",
    "    return theta\n",
    "\n",
    "\n",
    "# This function returns the prediction based on the output of\n",
    "# theta\n",
    "def get_prediction(theta):\n",
    "    prediction = 1 / (1 + np.exp(-theta))\n",
    "    return prediction\n",
    "\n",
    "# Takes array of coefficients previously used, the dependent\n",
    "# variable values, the predicted value, the alpha, which\n",
    "# will default to 0.3, and the array of x values\n",
    "# This function will calculate the new coefficients and return\n",
    "# them in the form of an array\n",
    "\n",
    "def update_coef(coef_array, x_array, y, prediction, alpha):\n",
    "    new_coef = []\n",
    "    for i in range(0, len(x_array)):\n",
    "        coef = coef_array[i] + alpha * (y - prediction) * prediction * (1 - prediction) * x_array[i]\n",
    "        new_coef.append(coef)\n",
    "    return new_coef\n",
    "\n",
    "# Takes array\n",
    "# Takes an array of x values, an array of coefficients,a \"y\"\n",
    "# value and an alpha value, builds the theta value runs theta\n",
    "# through the sigmoid function and runs that through the\n",
    "# gradient descent algorithm, update_coef and returns an\n",
    "# array of coefficients which will be used by the model with\n",
    "# the non-training data.\n",
    "\n",
    "def initialize_model(train_row, y, learning_rate):\n",
    "    # initialize coefficient array with all 0.0\n",
    "    initial_coef = []\n",
    "    for i in range(0, len(train_row)):\n",
    "        initial_coef.append(0.0)\n",
    "    x_vals = train_row\n",
    "    y = y\n",
    "    theta = get_theta(initial_coef, x_vals)\n",
    "    prediction = get_prediction(theta)\n",
    "    return update_coef(initial_coef, x_vals, y, prediction, learning_rate)\n",
    "\n",
    "# Takes independent variables as array, coefficients as array,\n",
    "# dependent variabls as array, and a learning rate as a float\n",
    "# Generates theta value using coefficients\n",
    "def build_model_epoch(independent_variables, coef, dependent_variables, learning_rate):\n",
    "\n",
    "    coefficients = coef\n",
    "    predictions = []\n",
    "    for i in range(0, len(independent_variables)):\n",
    "        theta = get_theta(coefficients, independent_variables[i])\n",
    "        prediction = get_prediction(theta)\n",
    "        coefficients = update_coef(coefficients, independent_variables[i], \\\n",
    "                                        dependent_variables[i], prediction, learning_rate)\n",
    "        if prediction < 0.5:\n",
    "            predictions.append(0)\n",
    "        else:\n",
    "            predictions.append(1)\n",
    "            \n",
    "    one_is_one, zero_is_zero, one_is_zero, zero_is_one = get_raw_test_results(predictions, dependent_variables)\n",
    "    score = get_score(one_is_one, zero_is_zero, one_is_zero, zero_is_one)\n",
    "    \n",
    "\n",
    "    return coefficients, score\n",
    "\n",
    "def build_model(learning_rate, epoch_count, independent_variables, dependent_variables):\n",
    "    coefficients = initialize_model(independent_variables[0], dependent_variables[0], learning_rate)\n",
    "    scores = []\n",
    "    for i in range(0, epoch_count):\n",
    "        coefficients, score = build_model_epoch(independent_variables, coefficients, dependent_variables,\n",
    "                                              learning_rate)\n",
    "        scores.append(score)\n",
    "\n",
    "    return coefficients, scores\n",
    "\n",
    "\n",
    "def test_model(model_coef, test_inde_vars):\n",
    "    coef = model_coef\n",
    "    predictions = []\n",
    "    for i in range(0, len(test_inde_vars)):\n",
    "        theta = get_theta(coef, test_inde_vars[i])\n",
    "        prediction = get_prediction(theta)\n",
    "        if prediction < 0.5:\n",
    "            predictions.append(0)\n",
    "        else:\n",
    "            predictions.append(1)\n",
    "    return predictions\n",
    "\n",
    "def get_raw_test_results(test, y_vals_test):\n",
    "    one_is_one = 0\n",
    "    zero_is_zero = 0\n",
    "    one_is_zero = 0\n",
    "    zero_is_one = 0\n",
    "\n",
    "    for i in range(0, len(test)):\n",
    "        if test[i] == 1 and y_vals_test[i] == 1:\n",
    "            one_is_one += 1\n",
    "        elif test[i] == 0 and y_vals_test[i] == 0:\n",
    "            zero_is_zero += 1\n",
    "        elif test[i] == 0 and y_vals_test[i] == 1:\n",
    "            one_is_zero += 1\n",
    "        else:\n",
    "            zero_is_one += 1\n",
    "    return one_is_one, zero_is_zero, one_is_zero, zero_is_one\n",
    "\n",
    "def get_score(one_is_one, zero_is_zero, one_is_zero, zero_is_one):\n",
    "    total = one_is_one + zero_is_zero + one_is_zero + zero_is_one\n",
    "    total_correct = one_is_one + zero_is_zero\n",
    "    score = total_correct / total * 100\n",
    "    return score\n",
    "\n",
    "def standardize_value(series, original_value):\n",
    "    series_internal = series\n",
    "    x = pd.Series([original_value])\n",
    "    series_internal.append(x, ignore_index=True)\n",
    "    x_bar = series_internal.mean()\n",
    "    stdv = series_internal.std()\n",
    "    standardized_value = (x - x_bar) / stdv\n",
    "    return standardized_value"
   ]
  },
  {
   "cell_type": "code",
   "execution_count": 30,
   "id": "797ecd9e",
   "metadata": {},
   "outputs": [],
   "source": [
    "# Pull csv training dataset into Pandas dataframe\n",
    "# Split dataframe into dependent and independent variables\n",
    "# Normalize x values using min/max scaler\n",
    "# Add placeholder value of 1 to x values array to account for\n",
    "# the intercept coefficient\n",
    "# Split dep and indep dataframes into training and test\n",
    "training_data_set = pd.read_csv(\"Default_Fin.csv\")\n",
    "features = [\"Employed\",\"Bank Balance\", \"Annual Salary\"]"
   ]
  },
  {
   "cell_type": "code",
   "execution_count": 38,
   "id": "74fbb40a",
   "metadata": {},
   "outputs": [
    {
     "data": {
      "application/vnd.jupyter.widget-view+json": {
       "model_id": "2ddcbb2b57824543a2cae56813525e69",
       "version_major": 2,
       "version_minor": 0
      },
      "text/plain": [
       "IntSlider(value=0, max=100000)"
      ]
     },
     "metadata": {},
     "output_type": "display_data"
    },
    {
     "data": {
      "application/vnd.jupyter.widget-view+json": {
       "model_id": "765119f637704662867139ba6d0bae1a",
       "version_major": 2,
       "version_minor": 0
      },
      "text/plain": [
       "IntText(value=0)"
      ]
     },
     "metadata": {},
     "output_type": "display_data"
    },
    {
     "data": {
      "application/vnd.jupyter.widget-view+json": {
       "model_id": "91286a64a8a64f2c8f1c2d3e1880e4ce",
       "version_major": 2,
       "version_minor": 0
      },
      "text/plain": [
       "IntSlider(value=0, max=100000)"
      ]
     },
     "metadata": {},
     "output_type": "display_data"
    },
    {
     "data": {
      "application/vnd.jupyter.widget-view+json": {
       "model_id": "9c832fa323e44c7c98571d5a8aa2c16e",
       "version_major": 2,
       "version_minor": 0
      },
      "text/plain": [
       "IntText(value=0)"
      ]
     },
     "metadata": {},
     "output_type": "display_data"
    }
   ],
   "source": [
    "annual_income_slide = widgets.IntSlider()\n",
    "annual_income_slide.max = 100000\n",
    "annual_income_text = widgets.IntText()\n",
    "display(annual_income_slide, annual_income_text)\n",
    "annual_income_link = widgets.jsdlink((annual_income_slide, 'value'),(annual_income_text, 'value'))\n",
    "\n",
    "bank_balance_slide = widgets.IntSlider()\n",
    "bank_balance_slide.max = 100000\n",
    "bank_balance_text = widgets.IntText()\n",
    "display(bank_balance_slide, bank_balance_text)\n",
    "bank_balance_link = widgets.jsdlink((bank_balance_slide, 'value'),(bank_balance_text, 'value'))"
   ]
  },
  {
   "cell_type": "code",
   "execution_count": 50,
   "id": "4da1459b",
   "metadata": {},
   "outputs": [],
   "source": [
    "salary = standardize_value(training_data_set[\"Annual Salary\"], annual_income_text.value)\n",
    "current_balance = standardize_value(training_data_set[\"Bank Balance\"],  bank_balance_text.value)"
   ]
  },
  {
   "cell_type": "code",
   "execution_count": 6,
   "id": "60dacf8f",
   "metadata": {},
   "outputs": [
    {
     "name": "stdout",
     "output_type": "stream",
     "text": [
      "[96.64, 96.65333333333334, 96.70666666666666, 96.70666666666666, 96.77333333333334, 96.82666666666667, 96.93333333333334, 96.96000000000001, 97.02666666666667, 97.04]\n",
      "97.08\n"
     ]
    }
   ],
   "source": [
    "x_train, x_test, y_train, y_test = data_processing(training_data_set, features)\n",
    "model, epoch_scores = build_model( 0.01, 10, x_train, y_train)\n",
    "print(epoch_scores)\n",
    "test = test_model(model, x_test)\n",
    "score1, score2, score3, score4 = get_raw_test_results(test, y_test)\n",
    "score = get_score(score1, score2, score3, score4)\n",
    "print(score)"
   ]
  },
  {
   "cell_type": "code",
   "execution_count": 7,
   "id": "1841dd4d",
   "metadata": {
    "scrolled": true
   },
   "outputs": [
    {
     "data": {
      "text/plain": [
       "Text(0.5, 0, 'Epoch Count')"
      ]
     },
     "execution_count": 7,
     "metadata": {},
     "output_type": "execute_result"
    },
    {
     "data": {
      "image/png": "[encoded data removed]",
      "text/plain": [
       "<Figure size 432x288 with 1 Axes>"
      ]
     },
     "metadata": {
      "needs_background": "light"
     },
     "output_type": "display_data"
    }
   ],
   "source": [
    "plt.plot(np.linspace(1,10, 10),epoch_scores)\n",
    "plt.ylabel('Model Accuracy')\n",
    "plt.xlabel('Epoch Count')"
   ]
  }
 ],
 "metadata": {
  "celltoolbar": "Edit Metadata",
  "hide_input": false,
  "kernelspec": {
   "display_name": "Python 3 (ipykernel)",
   "language": "python",
   "name": "python3"
  },
  "language_info": {
   "codemirror_mode": {
    "name": "ipython",
    "version": 3
   },
   "file_extension": ".py",
   "mimetype": "text/x-python",
   "name": "python",
   "nbconvert_exporter": "python",
   "pygments_lexer": "ipython3",
   "version": "3.8.12"
  }
 },
 "nbformat": 4,
 "nbformat_minor": 5
}
