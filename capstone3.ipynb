{
 "cells": [
  {
   "cell_type": "code",
   "execution_count": 47,
   "id": "2c0d2aba",
   "metadata": {},
   "outputs": [],
   "source": [
    "%matplotlib inline\n",
    "import pandas as pd\n",
    "import numpy as np\n",
    "from sklearn.model_selection import train_test_split\n",
    "from sklearn.preprocessing import MinMaxScaler\n",
    "from sklearn.metrics import log_loss, roc_auc_score, recall_score, precision_score, average_precision_score, f1_score, classification_report, accuracy_score, plot_roc_curve, plot_precision_recall_curve, plot_confusion_matrix\n",
    "import matplotlib\n",
    "import matplotlib.pyplot as plt\n",
    "import ipywidgets as widgets\n",
    "from IPython.display import display\n",
    "from ipywidgets import HBox, Label\n",
    "from math import exp"
   ]
  },
  {
   "cell_type": "code",
   "execution_count": 134,
   "id": "e9390893",
   "metadata": {},
   "outputs": [],
   "source": [
    "def get_theta(coef, x):\n",
    "    theta = 0.0\n",
    "    for i in range(0, len(x)):\n",
    "        theta = theta + (coef[i] * x[i])\n",
    "    return theta\n",
    "\n",
    "\n",
    "# This function returns the prediction based on the output of\n",
    "# theta\n",
    "def get_prediction(theta):\n",
    "    prediction = 1 / (1 + np.exp(-theta))\n",
    "    return prediction\n",
    "\n",
    "# Takes array of coefficients previously used, the dependent\n",
    "# variable values, the predicted value, the alpha, which\n",
    "# will default to 0.3, and the array of x values\n",
    "# This function will calculate the new coefficients and return\n",
    "# them in the form of an array\n",
    "\n",
    "def update_coef(coef_array, x_array, y, prediction, alpha):\n",
    "    new_coef = []\n",
    "    for i in range(0, len(x_array)):\n",
    "        coef = coef_array[i] + alpha * (y - prediction) * prediction * (1 - prediction) * x_array[i]\n",
    "        new_coef.append(coef)\n",
    "    return new_coef\n",
    "\n",
    "# Takes array\n",
    "# Takes an array of x values, an array of coefficients,a \"y\"\n",
    "# value and an alpha value, builds the theta value runs theta\n",
    "# through the sigmoid function and runs that through the\n",
    "# gradient descent algorithm, update_coef and returns an\n",
    "# array of coefficients which will be used by the model with\n",
    "# the non-training data.\n",
    "\n",
    "def initialize_model(train_row, y, learning_rate):\n",
    "    # initialize coefficient array with all 0.0\n",
    "    initial_coef = []\n",
    "    for i in range(0, len(train_row)):\n",
    "        initial_coef.append(0.0)\n",
    "    x_vals = train_row\n",
    "    y = y\n",
    "    theta = get_theta(initial_coef, x_vals)\n",
    "    prediction = get_prediction(theta)\n",
    "    return update_coef(initial_coef, x_vals, y, prediction, learning_rate)\n",
    "\n",
    "# Takes independent variables as array, coefficients as array,\n",
    "# dependent variabls as array, and a learning rate as a float\n",
    "# Generates theta value using coefficients\n",
    "def build_model_epoch(independent_variables, coef, dependent_variables, learning_rate):\n",
    "\n",
    "    coefficients = coef\n",
    "    predictions = []\n",
    "    for i in range(0, len(independent_variables)):\n",
    "        theta = get_theta(coefficients, independent_variables[i])\n",
    "        prediction = get_prediction(theta)\n",
    "        coefficients = update_coef(coefficients, independent_variables[i], \\\n",
    "                                        dependent_variables[i], prediction, learning_rate)\n",
    "        if prediction < 0.5:\n",
    "            predictions.append(0)\n",
    "        else:\n",
    "            predictions.append(1)\n",
    "            \n",
    "    one_is_one, zero_is_zero, one_is_zero, zero_is_one = get_raw_test_results(predictions, dependent_variables)\n",
    "    score = get_score(one_is_one, zero_is_zero, one_is_zero, zero_is_one)\n",
    "    \n",
    "\n",
    "    return coefficients, score\n",
    "\n",
    "def build_model(learning_rate, epoch_count, independent_variables, dependent_variables):\n",
    "    coefficients = initialize_model(independent_variables[0], dependent_variables[0], learning_rate)\n",
    "    scores = []\n",
    "    for i in range(0, epoch_count):\n",
    "        coefficients, score = build_model_epoch(independent_variables, coefficients, dependent_variables,\n",
    "                                              learning_rate)\n",
    "        scores.append(score)\n",
    "\n",
    "    return coefficients, scores\n",
    "\n",
    "\n",
    "def test_model(model_coef, test_inde_vars):\n",
    "    coef = model_coef\n",
    "    predictions = []\n",
    "    for i in range(0, len(test_inde_vars)):\n",
    "        theta = get_theta(coef, test_inde_vars[i])\n",
    "        prediction = get_prediction(theta)\n",
    "        if prediction < 0.5:\n",
    "            predictions.append(0)\n",
    "        else:\n",
    "            predictions.append(1)\n",
    "    return predictions\n",
    "\n",
    "def get_raw_test_results(test, y_vals_test):\n",
    "    one_is_one = 0\n",
    "    zero_is_zero = 0\n",
    "    one_is_zero = 0\n",
    "    zero_is_one = 0\n",
    "\n",
    "    for i in range(0, len(test)):\n",
    "        if test[i] == 1 and y_vals_test[i] == 1:\n",
    "            one_is_one += 1\n",
    "        elif test[i] == 0 and y_vals_test[i] == 0:\n",
    "            zero_is_zero += 1\n",
    "        elif test[i] == 0 and y_vals_test[i] == 1:\n",
    "            one_is_zero += 1\n",
    "        else:\n",
    "            zero_is_one += 1\n",
    "    return one_is_one, zero_is_zero, one_is_zero, zero_is_one\n",
    "\n",
    "def get_score(one_is_one, zero_is_zero, one_is_zero, zero_is_one):\n",
    "    total = one_is_one + zero_is_zero + one_is_zero + zero_is_one\n",
    "    total_correct = one_is_one + zero_is_zero\n",
    "    score = total_correct / total * 100\n",
    "    return score\n",
    "\n",
    "def get_numeric_features(df):\n",
    "    features_list = list(set(df.columns) - {'target'})\n",
    "    numeric_cols = []\n",
    "    for feature in features_list:\n",
    "        if (df.dtypes[feature]  == 'int64' or df.dtypes[feature]  == 'float64'\\\n",
    "        or df.dtypes[feature]  == 'int' or df.dtypes[feature]  == 'float')\\\n",
    "        and len(pd.unique(df[feature])) > 5:\n",
    "            numeric_cols.append(feature)\n",
    "    return numeric_cols\n",
    "\n",
    "def get_features_and_target_arrays(df, numeric_cols, cat_cols, scaler):\n",
    "    X_numeric_scaled = scaler.transform(df[numeric_cols])\n",
    "    X_categorical = df[cat_cols].to_numpy()\n",
    "    X_placeholder = df[['placeholder']].to_numpy()\n",
    "    X = np.hstack((X_placeholder, X_categorical, X_numeric_scaled))\n",
    "    y = df['target'].to_numpy()\n",
    "    return X, y\n",
    "\n",
    "def get_drop_cols(df, numeric_cols, cat_cols):\n",
    "    drop_cols = list(set(df.columns) - set(numeric_cols) - set(cat_cols) - {'target'})\n",
    "    return(drop_cols)\n",
    "    "
   ]
  },
  {
   "cell_type": "code",
   "execution_count": 7,
   "id": "5c8707bc",
   "metadata": {},
   "outputs": [
    {
     "data": {
      "application/vnd.jupyter.widget-view+json": {
       "model_id": "1aa80a9a80724afeb11f14a216621a60",
       "version_major": 2,
       "version_minor": 0
      },
      "text/plain": [
       "SelectMultiple(description='Numeric Features', options=('Bank Balance', 'Index', 'Annual Salary'), value=())"
      ]
     },
     "metadata": {},
     "output_type": "display_data"
    },
    {
     "data": {
      "application/vnd.jupyter.widget-view+json": {
       "model_id": "c40018354e96410380bd0c52159975a4",
       "version_major": 2,
       "version_minor": 0
      },
      "text/plain": [
       "SelectMultiple(description='Cagegorical Features', options=('Employed',), value=())"
      ]
     },
     "metadata": {},
     "output_type": "display_data"
    }
   ],
   "source": [
    "dataset = 'Default_Fin.csv'\n",
    "df = pd.read_csv(dataset, na_values='?')\n",
    "df = df.rename(columns={df.columns.values[-1]:'target'})\n",
    "df = df.dropna().copy()\n",
    "numeric_features_list = get_numeric_features(df)\n",
    "cat_features_list = list(set(df.columns) - set(numeric_features_list) - {'target'})\n",
    "cat_features_list.sort()\n",
    "numeric_column_selector = widgets.SelectMultiple(\n",
    "                    options=numeric_features_list,\n",
    "                    #rows=10,\n",
    "                    description='Numeric Features',\n",
    "                    disabled=False\n",
    "                  )\n",
    "cat_column_selector = widgets.SelectMultiple(\n",
    "                    options=cat_features_list,\n",
    "                    #rows=10,\n",
    "                    description='Cagegorical Features',\n",
    "                    disabled=False\n",
    "                  )\n",
    "display(numeric_column_selector)\n",
    "display(cat_column_selector)"
   ]
  },
  {
   "cell_type": "code",
   "execution_count": 8,
   "id": "85d707e9",
   "metadata": {},
   "outputs": [],
   "source": [
    "cat_cols = list(cat_column_selector.value)\n",
    "numeric_cols = list(numeric_column_selector.value)\n",
    "drop_cols = get_drop_cols(df, numeric_cols, cat_cols)\n",
    "df = df.drop(drop_cols, axis=1)\n",
    "df = pd.get_dummies(df, columns=cat_cols, drop_first=True)\n",
    "cat_cols = list(set(df.columns) - set(numeric_features_list) - {'target'})"
   ]
  },
  {
   "cell_type": "code",
   "execution_count": 9,
   "id": "c6110bc2",
   "metadata": {},
   "outputs": [],
   "source": [
    "df.insert(loc=0, column=\"placeholder\", value=np.ones(len(df.iloc[:,0])))\n",
    "random_seed = 582\n",
    "df_train, df_test = train_test_split(df, test_size=0.2, random_state=random_seed, stratify=df['target'])\n",
    "scaler = MinMaxScaler()\n",
    "scaler.fit(df_train[numeric_cols])\n",
    "\n",
    "X, y = get_features_and_target_arrays(df_train, numeric_cols, cat_cols, scaler)"
   ]
  },
  {
   "cell_type": "code",
   "execution_count": 10,
   "id": "8b6b8ba4",
   "metadata": {},
   "outputs": [],
   "source": [
    "model, epoch_scores = build_model(0.5, 10, X, y)"
   ]
  },
  {
   "cell_type": "code",
   "execution_count": 11,
   "id": "ad8e3555",
   "metadata": {},
   "outputs": [],
   "source": [
    "x_test, y_test = get_features_and_target_arrays(df_test, numeric_cols, cat_cols, scaler)"
   ]
  },
  {
   "cell_type": "code",
   "execution_count": 12,
   "id": "74e19c35",
   "metadata": {},
   "outputs": [],
   "source": [
    "test = test_model(model, x_test)"
   ]
  },
  {
   "cell_type": "code",
   "execution_count": 13,
   "id": "2b99e6de",
   "metadata": {
    "scrolled": true
   },
   "outputs": [
    {
     "name": "stdout",
     "output_type": "stream",
     "text": [
      "(16, 1922, 51, 11)\n"
     ]
    }
   ],
   "source": [
    "print(get_raw_test_results(test, y_test))"
   ]
  },
  {
   "cell_type": "code",
   "execution_count": null,
   "id": "31f970f9",
   "metadata": {},
   "outputs": [],
   "source": []
  }
 ],
 "metadata": {
  "celltoolbar": "Edit Metadata",
  "hide_input": false,
  "kernelspec": {
   "display_name": "Python 3 (ipykernel)",
   "language": "python",
   "name": "python3"
  },
  "language_info": {
   "codemirror_mode": {
    "name": "ipython",
    "version": 3
   },
   "file_extension": ".py",
   "mimetype": "text/x-python",
   "name": "python",
   "nbconvert_exporter": "python",
   "pygments_lexer": "ipython3",
   "version": "3.8.12"
  }
 },
 "nbformat": 4,
 "nbformat_minor": 5
}
